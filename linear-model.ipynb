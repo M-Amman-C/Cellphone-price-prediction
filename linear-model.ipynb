{
 "cells": [
  {
   "cell_type": "markdown",
   "metadata": {},
   "source": [
    "# Linear Regression Model"
   ]
  },
  {
   "cell_type": "markdown",
   "metadata": {},
   "source": [
    "# Cellphone Price Prediction"
   ]
  },
  {
   "cell_type": "code",
   "execution_count": 2,
   "metadata": {},
   "outputs": [],
   "source": [
    "#pip install pandas\n",
    "#pip install sklearn\n",
    "\n",
    "import pandas as pd"
   ]
  },
  {
   "cell_type": "markdown",
   "metadata": {},
   "source": [
    "Importing csv"
   ]
  },
  {
   "cell_type": "code",
   "execution_count": null,
   "metadata": {},
   "outputs": [],
   "source": []
  },
  {
   "cell_type": "code",
   "execution_count": 4,
   "metadata": {},
   "outputs": [
    {
     "data": {
      "text/html": [
       "<div>\n",
       "<style scoped>\n",
       "    .dataframe tbody tr th:only-of-type {\n",
       "        vertical-align: middle;\n",
       "    }\n",
       "\n",
       "    .dataframe tbody tr th {\n",
       "        vertical-align: top;\n",
       "    }\n",
       "\n",
       "    .dataframe thead th {\n",
       "        text-align: right;\n",
       "    }\n",
       "</style>\n",
       "<table border=\"1\" class=\"dataframe\">\n",
       "  <thead>\n",
       "    <tr style=\"text-align: right;\">\n",
       "      <th></th>\n",
       "      <th>Product_id</th>\n",
       "      <th>Price</th>\n",
       "      <th>Sale</th>\n",
       "      <th>weight</th>\n",
       "      <th>resoloution</th>\n",
       "      <th>ppi</th>\n",
       "      <th>cpu core</th>\n",
       "      <th>cpu freq</th>\n",
       "      <th>internal mem</th>\n",
       "      <th>ram</th>\n",
       "      <th>RearCam</th>\n",
       "      <th>Front_Cam</th>\n",
       "      <th>battery</th>\n",
       "      <th>thickness</th>\n",
       "    </tr>\n",
       "  </thead>\n",
       "  <tbody>\n",
       "    <tr>\n",
       "      <th>0</th>\n",
       "      <td>203</td>\n",
       "      <td>2357</td>\n",
       "      <td>10</td>\n",
       "      <td>135.0</td>\n",
       "      <td>5.20</td>\n",
       "      <td>424</td>\n",
       "      <td>8</td>\n",
       "      <td>1.350</td>\n",
       "      <td>16.0</td>\n",
       "      <td>3.000</td>\n",
       "      <td>13.00</td>\n",
       "      <td>8.0</td>\n",
       "      <td>2610</td>\n",
       "      <td>7.4</td>\n",
       "    </tr>\n",
       "    <tr>\n",
       "      <th>1</th>\n",
       "      <td>880</td>\n",
       "      <td>1749</td>\n",
       "      <td>10</td>\n",
       "      <td>125.0</td>\n",
       "      <td>4.00</td>\n",
       "      <td>233</td>\n",
       "      <td>2</td>\n",
       "      <td>1.300</td>\n",
       "      <td>4.0</td>\n",
       "      <td>1.000</td>\n",
       "      <td>3.15</td>\n",
       "      <td>0.0</td>\n",
       "      <td>1700</td>\n",
       "      <td>9.9</td>\n",
       "    </tr>\n",
       "    <tr>\n",
       "      <th>2</th>\n",
       "      <td>40</td>\n",
       "      <td>1916</td>\n",
       "      <td>10</td>\n",
       "      <td>110.0</td>\n",
       "      <td>4.70</td>\n",
       "      <td>312</td>\n",
       "      <td>4</td>\n",
       "      <td>1.200</td>\n",
       "      <td>8.0</td>\n",
       "      <td>1.500</td>\n",
       "      <td>13.00</td>\n",
       "      <td>5.0</td>\n",
       "      <td>2000</td>\n",
       "      <td>7.6</td>\n",
       "    </tr>\n",
       "    <tr>\n",
       "      <th>3</th>\n",
       "      <td>99</td>\n",
       "      <td>1315</td>\n",
       "      <td>11</td>\n",
       "      <td>118.5</td>\n",
       "      <td>4.00</td>\n",
       "      <td>233</td>\n",
       "      <td>2</td>\n",
       "      <td>1.300</td>\n",
       "      <td>4.0</td>\n",
       "      <td>0.512</td>\n",
       "      <td>3.15</td>\n",
       "      <td>0.0</td>\n",
       "      <td>1400</td>\n",
       "      <td>11.0</td>\n",
       "    </tr>\n",
       "    <tr>\n",
       "      <th>4</th>\n",
       "      <td>880</td>\n",
       "      <td>1749</td>\n",
       "      <td>11</td>\n",
       "      <td>125.0</td>\n",
       "      <td>4.00</td>\n",
       "      <td>233</td>\n",
       "      <td>2</td>\n",
       "      <td>1.300</td>\n",
       "      <td>4.0</td>\n",
       "      <td>1.000</td>\n",
       "      <td>3.15</td>\n",
       "      <td>0.0</td>\n",
       "      <td>1700</td>\n",
       "      <td>9.9</td>\n",
       "    </tr>\n",
       "    <tr>\n",
       "      <th>...</th>\n",
       "      <td>...</td>\n",
       "      <td>...</td>\n",
       "      <td>...</td>\n",
       "      <td>...</td>\n",
       "      <td>...</td>\n",
       "      <td>...</td>\n",
       "      <td>...</td>\n",
       "      <td>...</td>\n",
       "      <td>...</td>\n",
       "      <td>...</td>\n",
       "      <td>...</td>\n",
       "      <td>...</td>\n",
       "      <td>...</td>\n",
       "      <td>...</td>\n",
       "    </tr>\n",
       "    <tr>\n",
       "      <th>156</th>\n",
       "      <td>1206</td>\n",
       "      <td>3551</td>\n",
       "      <td>4638</td>\n",
       "      <td>178.0</td>\n",
       "      <td>5.46</td>\n",
       "      <td>538</td>\n",
       "      <td>4</td>\n",
       "      <td>1.875</td>\n",
       "      <td>128.0</td>\n",
       "      <td>6.000</td>\n",
       "      <td>12.00</td>\n",
       "      <td>16.0</td>\n",
       "      <td>4080</td>\n",
       "      <td>8.4</td>\n",
       "    </tr>\n",
       "    <tr>\n",
       "      <th>157</th>\n",
       "      <td>1296</td>\n",
       "      <td>3211</td>\n",
       "      <td>8016</td>\n",
       "      <td>170.0</td>\n",
       "      <td>5.50</td>\n",
       "      <td>534</td>\n",
       "      <td>4</td>\n",
       "      <td>1.975</td>\n",
       "      <td>128.0</td>\n",
       "      <td>6.000</td>\n",
       "      <td>20.00</td>\n",
       "      <td>8.0</td>\n",
       "      <td>3400</td>\n",
       "      <td>7.9</td>\n",
       "    </tr>\n",
       "    <tr>\n",
       "      <th>158</th>\n",
       "      <td>856</td>\n",
       "      <td>3260</td>\n",
       "      <td>8809</td>\n",
       "      <td>150.0</td>\n",
       "      <td>5.50</td>\n",
       "      <td>401</td>\n",
       "      <td>8</td>\n",
       "      <td>2.200</td>\n",
       "      <td>64.0</td>\n",
       "      <td>4.000</td>\n",
       "      <td>20.00</td>\n",
       "      <td>20.0</td>\n",
       "      <td>3000</td>\n",
       "      <td>6.8</td>\n",
       "    </tr>\n",
       "    <tr>\n",
       "      <th>159</th>\n",
       "      <td>1296</td>\n",
       "      <td>3211</td>\n",
       "      <td>8946</td>\n",
       "      <td>170.0</td>\n",
       "      <td>5.50</td>\n",
       "      <td>534</td>\n",
       "      <td>4</td>\n",
       "      <td>1.975</td>\n",
       "      <td>128.0</td>\n",
       "      <td>6.000</td>\n",
       "      <td>20.00</td>\n",
       "      <td>8.0</td>\n",
       "      <td>3400</td>\n",
       "      <td>7.9</td>\n",
       "    </tr>\n",
       "    <tr>\n",
       "      <th>160</th>\n",
       "      <td>1131</td>\n",
       "      <td>2536</td>\n",
       "      <td>9807</td>\n",
       "      <td>202.0</td>\n",
       "      <td>6.00</td>\n",
       "      <td>367</td>\n",
       "      <td>8</td>\n",
       "      <td>1.500</td>\n",
       "      <td>16.0</td>\n",
       "      <td>3.000</td>\n",
       "      <td>21.50</td>\n",
       "      <td>16.0</td>\n",
       "      <td>2700</td>\n",
       "      <td>8.4</td>\n",
       "    </tr>\n",
       "  </tbody>\n",
       "</table>\n",
       "<p>161 rows × 14 columns</p>\n",
       "</div>"
      ],
      "text/plain": [
       "     Product_id  Price  Sale  weight  resoloution  ppi  cpu core  cpu freq  \\\n",
       "0           203   2357    10   135.0         5.20  424         8     1.350   \n",
       "1           880   1749    10   125.0         4.00  233         2     1.300   \n",
       "2            40   1916    10   110.0         4.70  312         4     1.200   \n",
       "3            99   1315    11   118.5         4.00  233         2     1.300   \n",
       "4           880   1749    11   125.0         4.00  233         2     1.300   \n",
       "..          ...    ...   ...     ...          ...  ...       ...       ...   \n",
       "156        1206   3551  4638   178.0         5.46  538         4     1.875   \n",
       "157        1296   3211  8016   170.0         5.50  534         4     1.975   \n",
       "158         856   3260  8809   150.0         5.50  401         8     2.200   \n",
       "159        1296   3211  8946   170.0         5.50  534         4     1.975   \n",
       "160        1131   2536  9807   202.0         6.00  367         8     1.500   \n",
       "\n",
       "     internal mem    ram  RearCam  Front_Cam  battery  thickness  \n",
       "0            16.0  3.000    13.00        8.0     2610        7.4  \n",
       "1             4.0  1.000     3.15        0.0     1700        9.9  \n",
       "2             8.0  1.500    13.00        5.0     2000        7.6  \n",
       "3             4.0  0.512     3.15        0.0     1400       11.0  \n",
       "4             4.0  1.000     3.15        0.0     1700        9.9  \n",
       "..            ...    ...      ...        ...      ...        ...  \n",
       "156         128.0  6.000    12.00       16.0     4080        8.4  \n",
       "157         128.0  6.000    20.00        8.0     3400        7.9  \n",
       "158          64.0  4.000    20.00       20.0     3000        6.8  \n",
       "159         128.0  6.000    20.00        8.0     3400        7.9  \n",
       "160          16.0  3.000    21.50       16.0     2700        8.4  \n",
       "\n",
       "[161 rows x 14 columns]"
      ]
     },
     "execution_count": 4,
     "metadata": {},
     "output_type": "execute_result"
    }
   ],
   "source": [
    "df = pd.read_csv(\"Cellphone.csv\")"
   ]
  },
  {
   "cell_type": "markdown",
   "metadata": {},
   "source": [
    "Check the data"
   ]
  },
  {
   "cell_type": "code",
   "execution_count": 5,
   "metadata": {},
   "outputs": [
    {
     "data": {
      "text/html": [
       "<div>\n",
       "<style scoped>\n",
       "    .dataframe tbody tr th:only-of-type {\n",
       "        vertical-align: middle;\n",
       "    }\n",
       "\n",
       "    .dataframe tbody tr th {\n",
       "        vertical-align: top;\n",
       "    }\n",
       "\n",
       "    .dataframe thead th {\n",
       "        text-align: right;\n",
       "    }\n",
       "</style>\n",
       "<table border=\"1\" class=\"dataframe\">\n",
       "  <thead>\n",
       "    <tr style=\"text-align: right;\">\n",
       "      <th></th>\n",
       "      <th>Product_id</th>\n",
       "      <th>Price</th>\n",
       "      <th>Sale</th>\n",
       "      <th>weight</th>\n",
       "      <th>resoloution</th>\n",
       "      <th>ppi</th>\n",
       "      <th>cpu core</th>\n",
       "      <th>cpu freq</th>\n",
       "      <th>internal mem</th>\n",
       "      <th>ram</th>\n",
       "      <th>RearCam</th>\n",
       "      <th>Front_Cam</th>\n",
       "      <th>battery</th>\n",
       "      <th>thickness</th>\n",
       "    </tr>\n",
       "  </thead>\n",
       "  <tbody>\n",
       "    <tr>\n",
       "      <th>0</th>\n",
       "      <td>203</td>\n",
       "      <td>2357</td>\n",
       "      <td>10</td>\n",
       "      <td>135.0</td>\n",
       "      <td>5.2</td>\n",
       "      <td>424</td>\n",
       "      <td>8</td>\n",
       "      <td>1.35</td>\n",
       "      <td>16.0</td>\n",
       "      <td>3.000</td>\n",
       "      <td>13.00</td>\n",
       "      <td>8.0</td>\n",
       "      <td>2610</td>\n",
       "      <td>7.4</td>\n",
       "    </tr>\n",
       "    <tr>\n",
       "      <th>1</th>\n",
       "      <td>880</td>\n",
       "      <td>1749</td>\n",
       "      <td>10</td>\n",
       "      <td>125.0</td>\n",
       "      <td>4.0</td>\n",
       "      <td>233</td>\n",
       "      <td>2</td>\n",
       "      <td>1.30</td>\n",
       "      <td>4.0</td>\n",
       "      <td>1.000</td>\n",
       "      <td>3.15</td>\n",
       "      <td>0.0</td>\n",
       "      <td>1700</td>\n",
       "      <td>9.9</td>\n",
       "    </tr>\n",
       "    <tr>\n",
       "      <th>2</th>\n",
       "      <td>40</td>\n",
       "      <td>1916</td>\n",
       "      <td>10</td>\n",
       "      <td>110.0</td>\n",
       "      <td>4.7</td>\n",
       "      <td>312</td>\n",
       "      <td>4</td>\n",
       "      <td>1.20</td>\n",
       "      <td>8.0</td>\n",
       "      <td>1.500</td>\n",
       "      <td>13.00</td>\n",
       "      <td>5.0</td>\n",
       "      <td>2000</td>\n",
       "      <td>7.6</td>\n",
       "    </tr>\n",
       "    <tr>\n",
       "      <th>3</th>\n",
       "      <td>99</td>\n",
       "      <td>1315</td>\n",
       "      <td>11</td>\n",
       "      <td>118.5</td>\n",
       "      <td>4.0</td>\n",
       "      <td>233</td>\n",
       "      <td>2</td>\n",
       "      <td>1.30</td>\n",
       "      <td>4.0</td>\n",
       "      <td>0.512</td>\n",
       "      <td>3.15</td>\n",
       "      <td>0.0</td>\n",
       "      <td>1400</td>\n",
       "      <td>11.0</td>\n",
       "    </tr>\n",
       "    <tr>\n",
       "      <th>4</th>\n",
       "      <td>880</td>\n",
       "      <td>1749</td>\n",
       "      <td>11</td>\n",
       "      <td>125.0</td>\n",
       "      <td>4.0</td>\n",
       "      <td>233</td>\n",
       "      <td>2</td>\n",
       "      <td>1.30</td>\n",
       "      <td>4.0</td>\n",
       "      <td>1.000</td>\n",
       "      <td>3.15</td>\n",
       "      <td>0.0</td>\n",
       "      <td>1700</td>\n",
       "      <td>9.9</td>\n",
       "    </tr>\n",
       "  </tbody>\n",
       "</table>\n",
       "</div>"
      ],
      "text/plain": [
       "   Product_id  Price  Sale  weight  resoloution  ppi  cpu core  cpu freq  \\\n",
       "0         203   2357    10   135.0          5.2  424         8      1.35   \n",
       "1         880   1749    10   125.0          4.0  233         2      1.30   \n",
       "2          40   1916    10   110.0          4.7  312         4      1.20   \n",
       "3          99   1315    11   118.5          4.0  233         2      1.30   \n",
       "4         880   1749    11   125.0          4.0  233         2      1.30   \n",
       "\n",
       "   internal mem    ram  RearCam  Front_Cam  battery  thickness  \n",
       "0          16.0  3.000    13.00        8.0     2610        7.4  \n",
       "1           4.0  1.000     3.15        0.0     1700        9.9  \n",
       "2           8.0  1.500    13.00        5.0     2000        7.6  \n",
       "3           4.0  0.512     3.15        0.0     1400       11.0  \n",
       "4           4.0  1.000     3.15        0.0     1700        9.9  "
      ]
     },
     "execution_count": 5,
     "metadata": {},
     "output_type": "execute_result"
    }
   ],
   "source": [
    "df. head(5)"
   ]
  },
  {
   "cell_type": "code",
   "execution_count": 11,
   "metadata": {},
   "outputs": [
    {
     "data": {
      "text/plain": [
       "0"
      ]
     },
     "execution_count": 11,
     "metadata": {},
     "output_type": "execute_result"
    }
   ],
   "source": [
    "df.isnull().sum().sum()"
   ]
  },
  {
   "cell_type": "markdown",
   "metadata": {},
   "source": [
    "Create X and y"
   ]
  },
  {
   "cell_type": "code",
   "execution_count": 16,
   "metadata": {},
   "outputs": [
    {
     "name": "stdout",
     "output_type": "stream",
     "text": [
      "Shape of X:  (1131, 10)\n",
      "Shape of y:  (1131,)\n"
     ]
    }
   ],
   "source": [
    "from sklearn.datasets import make_classification\n",
    "\n",
    "X, y = make_classification(n_samples = 1131, n_features = 10, n_classes = 2)\n",
    "print(\"Shape of X: \",X.shape)\n",
    "print(\"Shape of y: \",y.shape)"
   ]
  },
  {
   "cell_type": "markdown",
   "metadata": {},
   "source": [
    "Split Train and Test Data"
   ]
  },
  {
   "cell_type": "code",
   "execution_count": 21,
   "metadata": {},
   "outputs": [
    {
     "name": "stdout",
     "output_type": "stream",
     "text": [
      "Shape of X_train, X_test:  (848, 10) (283, 10)\n",
      "Shape of y_train, y_test:  (848,) (283,)\n"
     ]
    }
   ],
   "source": [
    "from sklearn.model_selection import train_test_split\n",
    "\n",
    "X_train, X_test, y_train, y_test = train_test_split(X, y, test_size=0.25, random_state=37)\n",
    "print(\"Shape of X_train, X_test: \", X_train.shape, X_test.shape)\n",
    "print(\"Shape of y_train, y_test: \", y_train.shape, y_test.shape)"
   ]
  },
  {
   "cell_type": "markdown",
   "metadata": {},
   "source": [
    "**Building The Model**"
   ]
  },
  {
   "cell_type": "code",
   "execution_count": 25,
   "metadata": {},
   "outputs": [],
   "source": [
    "from sklearn.linear_model import LogisticRegression\n",
    "\n",
    "lr = LogisticRegression()\n",
    "\n",
    "lr.fit(X_train, y_train)\n",
    "\n",
    "y_pred = lr.predict(X_test)"
   ]
  },
  {
   "cell_type": "code",
   "execution_count": 32,
   "metadata": {},
   "outputs": [
    {
     "data": {
      "text/plain": [
       "0.8939929328621908"
      ]
     },
     "execution_count": 32,
     "metadata": {},
     "output_type": "execute_result"
    }
   ],
   "source": [
    "from sklearn.metrics import accuracy_score\n",
    "\n",
    "accuracy_score(y_test, y_pred)"
   ]
  },
  {
   "cell_type": "markdown",
   "metadata": {},
   "source": [
    "**Compare test outputs with actual data**"
   ]
  },
  {
   "cell_type": "code",
   "execution_count": 34,
   "metadata": {},
   "outputs": [
    {
     "data": {
      "text/plain": [
       "Text(0, 0.5, 'Predicted values')"
      ]
     },
     "execution_count": 34,
     "metadata": {},
     "output_type": "execute_result"
    },
    {
     "data": {
      "image/png": "[encoded data removed]",
      "text/plain": [
       "<Figure size 640x480 with 1 Axes>"
      ]
     },
     "metadata": {},
     "output_type": "display_data"
    }
   ],
   "source": [
    "import matplotlib.pyplot as plt\n",
    "\n",
    "plt.scatter(y_test, y_pred, alpha=0.5)\n",
    "plt.plot([y.min(), y.max()], [y.min(), y.max()], color=\"red\")\n",
    "plt.xlabel(\"Actual values\")\n",
    "plt.ylabel(\"Predicted values\")"
   ]
  },
  {
   "cell_type": "code",
   "execution_count": 36,
   "metadata": {},
   "outputs": [
    {
     "data": {
      "image/png": "[encoded data removed]",
      "text/plain": [
       "<Figure size 640x480 with 1 Axes>"
      ]
     },
     "metadata": {},
     "output_type": "display_data"
    }
   ],
   "source": [
    "plt.scatter(y_pred, y_test == y_pred, alpha=0.5)\n",
    "plt.xlabel(\"Predicted values\")\n",
    "plt.ylabel(\"Residuals\")\n",
    "plt.show()"
   ]
  }
 ],
 "metadata": {
  "kernelspec": {
   "display_name": "Python 3",
   "language": "python",
   "name": "python3"
  },
  "language_info": {
   "codemirror_mode": {
    "name": "ipython",
    "version": 3
   },
   "file_extension": ".py",
   "mimetype": "text/x-python",
   "name": "python",
   "nbconvert_exporter": "python",
   "pygments_lexer": "ipython3",
   "version": "3.10.5"
  }
 },
 "nbformat": 4,
 "nbformat_minor": 2
}
